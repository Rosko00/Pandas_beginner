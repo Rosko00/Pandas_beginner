{
 "cells": [
  {
   "cell_type": "markdown",
   "id": "de250ed0",
   "metadata": {},
   "source": [
    "# Spracovanie Dátových súborov"
   ]
  },
  {
   "cell_type": "markdown",
   "id": "012b8233",
   "metadata": {},
   "source": [
    "## Knižnica PANDAS\n",
    "- Pandaj je nevyhnutná knižnica pre analýzu údajov v Pythone.\n",
    "- Poskytuje efektívne dátové štruktúry, vďaka ktorým je práca s tabuľkovými údajmi jednoduchá a intuitívna.\n",
    "- V súčastnosti Pandas rýchlo rastie a znalosti knižnice sú nevyhnutné pre každého dátového vedca."
   ]
  },
  {
   "cell_type": "markdown",
   "id": "427fbd8c",
   "metadata": {},
   "source": [
    "## Pandas je dobrou voľbou:\n",
    "- Tabuľkové údaje typu SQL alebo Excel.\n",
    "- Údaje predstavujúce časové rady.\n",
    "- Matrice.\n",
    "- Výsledky meraní a štatistiky."
   ]
  },
  {
   "cell_type": "markdown",
   "id": "fd53a581",
   "metadata": {},
   "source": [
    "## Silné stránky knižnice Pandas:\n",
    "- Jednoduché spracovanie chýbajúcich hodôt.\n",
    "- Možnosti úpravy veľkosti DataFrame, (pridanie odstránenie stĺpcov a riadkov).\n",
    "- Automatické zarovnanie údajov.\n",
    "- Metóda Groupby funguje rovnakým spôsobom ako v SQL.\n",
    "- Je ľahké vytvorenie DataFrame z iného objektu.\n",
    "- Rezanie, indexovanie a vytváranie podmnožín.\n",
    "- Spájanie a zlučovanie datasetov. "
   ]
  }
 ],
 "metadata": {
  "kernelspec": {
   "display_name": "Python 3 (ipykernel)",
   "language": "python",
   "name": "python3"
  },
  "language_info": {
   "codemirror_mode": {
    "name": "ipython",
    "version": 3
   },
   "file_extension": ".py",
   "mimetype": "text/x-python",
   "name": "python",
   "nbconvert_exporter": "python",
   "pygments_lexer": "ipython3",
   "version": "3.10.6"
  }
 },
 "nbformat": 4,
 "nbformat_minor": 5
}

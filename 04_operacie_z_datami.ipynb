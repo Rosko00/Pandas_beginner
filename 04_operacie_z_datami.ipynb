{
 "cells": [
  {
   "cell_type": "markdown",
   "id": "12fc19ea",
   "metadata": {},
   "source": [
    "# Operácie z dátami"
   ]
  },
  {
   "cell_type": "code",
   "execution_count": 2,
   "id": "249e2680",
   "metadata": {},
   "outputs": [],
   "source": [
    "import pandas as pd\n",
    "import numpy as np\n",
    "df = pd.read_csv('/home/dell/DATA_ZALOHA/Data_Science/Data stes Pandas/fotbal_prestupy_2000_2019.csv')"
   ]
  },
  {
   "cell_type": "code",
   "execution_count": null,
   "id": "3a859fc4",
   "metadata": {},
   "outputs": [],
   "source": []
  }
 ],
 "metadata": {
  "kernelspec": {
   "display_name": "Python 3 (ipykernel)",
   "language": "python",
   "name": "python3"
  },
  "language_info": {
   "codemirror_mode": {
    "name": "ipython",
    "version": 3
   },
   "file_extension": ".py",
   "mimetype": "text/x-python",
   "name": "python",
   "nbconvert_exporter": "python",
   "pygments_lexer": "ipython3",
   "version": "3.10.6"
  }
 },
 "nbformat": 4,
 "nbformat_minor": 5
}

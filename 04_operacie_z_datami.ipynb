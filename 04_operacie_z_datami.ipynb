{
 "cells": [
  {
   "cell_type": "markdown",
   "id": "12fc19ea",
   "metadata": {},
   "source": [
    "# Operácie z dátami"
   ]
  },
  {
   "cell_type": "code",
   "execution_count": 24,
   "id": "249e2680",
   "metadata": {},
   "outputs": [],
   "source": [
    "import pandas as pd\n",
    "import numpy as np\n",
    "df = pd.read_csv('/home/dell/DATA_ZALOHA/Data_Science/Data stes Pandas/fotbal_prestupy_2000_2019.csv')"
   ]
  },
  {
   "cell_type": "markdown",
   "id": "7eff9c9e",
   "metadata": {},
   "source": [
    "### count ()\n",
    "- Týmto sa pozrieme na všetky stĺpce či máme všetky hodnoty"
   ]
  },
  {
   "cell_type": "code",
   "execution_count": 25,
   "id": "3a859fc4",
   "metadata": {
    "scrolled": true
   },
   "outputs": [
    {
     "data": {
      "text/plain": [
       "Jméno                 4700\n",
       "Pozice                4700\n",
       "Věk                   4700\n",
       "Původní tým           4700\n",
       "Původní liga          4700\n",
       "Nový tým              4700\n",
       "Nová  Liga            4700\n",
       "Sezóna                4700\n",
       "Odhadovaná hodnota    3440\n",
       "Přestupová částka     4700\n",
       "dtype: int64"
      ]
     },
     "execution_count": 25,
     "metadata": {},
     "output_type": "execute_result"
    }
   ],
   "source": [
    "# Identifikovali sme že iba v stĺpci (odhadovaná hodnota) máme nevyplnené údaje\n",
    "df.count()"
   ]
  },
  {
   "cell_type": "markdown",
   "id": "53d64294",
   "metadata": {},
   "source": [
    "- Identifikujeme konkrétny stĺpec a jeho vyplnené hodnoty"
   ]
  },
  {
   "cell_type": "code",
   "execution_count": 26,
   "id": "f0bb70d6",
   "metadata": {},
   "outputs": [
    {
     "data": {
      "text/plain": [
       "3440"
      ]
     },
     "execution_count": 26,
     "metadata": {},
     "output_type": "execute_result"
    }
   ],
   "source": [
    "# Identifikovali sme konkrétny stĺpec a jeho vyplnené hodnoty\n",
    "df ['Odhadovaná hodnota'].count ()"
   ]
  },
  {
   "cell_type": "markdown",
   "id": "2bfff60e",
   "metadata": {},
   "source": [
    "### sum ()\n",
    "- sčítanie hodnôt v každom stĺpci v DataFrame"
   ]
  },
  {
   "cell_type": "code",
   "execution_count": 27,
   "id": "d4d0aed5",
   "metadata": {},
   "outputs": [
    {
     "data": {
      "text/plain": [
       "Jméno                 Luís FigoHernán CrespoMarc OvermarsGabriel Bat...\n",
       "Pozice                Right WingerCentre-ForwardLeft WingerCentre-Fo...\n",
       "Věk                                                              114392\n",
       "Původní tým           FC BarcelonaParmaArsenalFiorentinaReal MadridW...\n",
       "Původní liga          LaLigaSerie APremier LeagueSerie ALaLigaPremie...\n",
       "Nový tým              Real MadridLazioFC BarcelonaAS RomaParis SGLee...\n",
       "Nová  Liga            LaLigaSerie ALaLigaSerie ALigue 1Premier Leagu...\n",
       "Sezóna                2000-20012000-20012000-20012000-20012000-20012...\n",
       "Odhadovaná hodnota                                        29661295000.0\n",
       "Přestupová částka                                           44403655000\n",
       "dtype: object"
      ]
     },
     "execution_count": 27,
     "metadata": {},
     "output_type": "execute_result"
    }
   ],
   "source": [
    "df.sum ()"
   ]
  },
  {
   "cell_type": "markdown",
   "id": "4242f0aa",
   "metadata": {},
   "source": [
    "- Sčítanie hodnoty v definovanom stĺpci (Přestupová částka)"
   ]
  },
  {
   "cell_type": "code",
   "execution_count": 28,
   "id": "5b14d7b7",
   "metadata": {},
   "outputs": [
    {
     "data": {
      "text/plain": [
       "44403655000"
      ]
     },
     "execution_count": 28,
     "metadata": {},
     "output_type": "execute_result"
    }
   ],
   "source": [
    "# Výsledna suma je za všetky prestupy v DataFrame\n",
    "df ['Přestupová částka'].sum ()"
   ]
  },
  {
   "cell_type": "markdown",
   "id": "211c54a3",
   "metadata": {},
   "source": [
    "### mean ()\n",
    "- Vypočítanie v danom stĺpci priemer"
   ]
  },
  {
   "cell_type": "code",
   "execution_count": 29,
   "id": "9ee94cef",
   "metadata": {},
   "outputs": [
    {
     "data": {
      "text/plain": [
       "24.33872340425532"
      ]
     },
     "execution_count": 29,
     "metadata": {},
     "output_type": "execute_result"
    }
   ],
   "source": [
    "# Výpočet priemeru veku hráčov v stĺpci v Dataframe\n",
    "df ['Věk'].mean()"
   ]
  },
  {
   "cell_type": "markdown",
   "id": "8c54e97d",
   "metadata": {},
   "source": [
    "### median ()\n",
    "- Zobrazenie stredovej hodnoty v stĺpci"
   ]
  },
  {
   "cell_type": "code",
   "execution_count": 30,
   "id": "c11ef98a",
   "metadata": {},
   "outputs": [
    {
     "data": {
      "text/plain": [
       "24.33872340425532"
      ]
     },
     "execution_count": 30,
     "metadata": {},
     "output_type": "execute_result"
    }
   ],
   "source": [
    "# Výpočet stredovej hodnoty veku hráčov v stĺpci v Dataframe\n",
    "df ['Věk'].mean()"
   ]
  },
  {
   "cell_type": "markdown",
   "id": "0de677e8",
   "metadata": {},
   "source": [
    "### min ()"
   ]
  },
  {
   "cell_type": "code",
   "execution_count": 31,
   "id": "53e2128d",
   "metadata": {},
   "outputs": [
    {
     "data": {
      "text/plain": [
       "0"
      ]
     },
     "execution_count": 31,
     "metadata": {},
     "output_type": "execute_result"
    }
   ],
   "source": [
    "# V definovanom stĺpci Věk zobrazí najnižšiu hodnotu\n",
    "df ['Věk'].min()"
   ]
  },
  {
   "cell_type": "markdown",
   "id": "46ea79fb",
   "metadata": {},
   "source": [
    "### max ()"
   ]
  },
  {
   "cell_type": "code",
   "execution_count": 32,
   "id": "de0255be",
   "metadata": {},
   "outputs": [
    {
     "data": {
      "text/plain": [
       "35"
      ]
     },
     "execution_count": 32,
     "metadata": {},
     "output_type": "execute_result"
    }
   ],
   "source": [
    "# V definovanom stĺpci Věk zobrazí najvyšiu hodnotu\n",
    "df ['Věk'].max()"
   ]
  },
  {
   "cell_type": "code",
   "execution_count": null,
   "id": "e362b9e9",
   "metadata": {},
   "outputs": [],
   "source": []
  }
 ],
 "metadata": {
  "kernelspec": {
   "display_name": "Python 3 (ipykernel)",
   "language": "python",
   "name": "python3"
  },
  "language_info": {
   "codemirror_mode": {
    "name": "ipython",
    "version": 3
   },
   "file_extension": ".py",
   "mimetype": "text/x-python",
   "name": "python",
   "nbconvert_exporter": "python",
   "pygments_lexer": "ipython3",
   "version": "3.10.6"
  }
 },
 "nbformat": 4,
 "nbformat_minor": 5
}

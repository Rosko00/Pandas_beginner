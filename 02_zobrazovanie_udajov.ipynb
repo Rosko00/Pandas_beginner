{
 "cells": [
  {
   "cell_type": "markdown",
   "id": "74a35581",
   "metadata": {},
   "source": [
    "# Pandas zobrazovanie údajov\n",
    "- df.head(n) - zobrazí prvých (n) dátových záznamov\n",
    "- df.tail(n) - zobrazí posledných (n) dátových záznamov\n",
    "- df.sample(n) - zobrazí náhodné dátové záznamy v počte (n)\n",
    "- df.stlpec alebo df[\"stlpec\"] - zobrazí daný stĺpec (ako sériu)\n",
    "- df[[\"stlpec\"]] - zobrazí daný stĺpec (ako DataFrame)\n",
    "- df[[\"stlpec1\",\"stlpec2\"]] - zobrazuje niekoľko stĺpcov\n",
    "- df.index - zobrazuje názvy indexov (riadkov)\n",
    "- df.colums - zobrazuje názvy stĺpcov\n",
    "- df.info() - zobrazuje všeobecné informácie o datasete"
   ]
  },
  {
   "cell_type": "markdown",
   "id": "f06a395d",
   "metadata": {},
   "source": [
    "### Pre dátový rámec existujú dve funckie na získanie konkrétnych údajov\n",
    "- loc hľadá názvy stĺpcov a indexov [[rows],[colums]]\n",
    "- iloc vyhľadáva podľa ich poradových čísel [[row number],[column number]]\n",
    "\n",
    "Môže sa uplatniť aj logická podmienka v zátvorkách"
   ]
  },
  {
   "cell_type": "code",
   "execution_count": 57,
   "id": "a9a0bc61",
   "metadata": {},
   "outputs": [],
   "source": [
    "import pandas as pd\n",
    "df = pd.read_csv ('/home/dell/DATA_ZALOHA/Data_Science/Data stes Pandas/fotbal_prestupy_2000_2019.csv')"
   ]
  },
  {
   "cell_type": "markdown",
   "id": "90197f05",
   "metadata": {},
   "source": [
    "### Zobrazíme si základné informácie o Datasete"
   ]
  },
  {
   "cell_type": "code",
   "execution_count": 50,
   "id": "a349cce1",
   "metadata": {},
   "outputs": [
    {
     "name": "stdout",
     "output_type": "stream",
     "text": [
      "<class 'pandas.core.frame.DataFrame'>\n",
      "RangeIndex: 4700 entries, 0 to 4699\n",
      "Data columns (total 10 columns):\n",
      " #   Column              Non-Null Count  Dtype  \n",
      "---  ------              --------------  -----  \n",
      " 0   Jméno               4700 non-null   object \n",
      " 1   Pozice              4700 non-null   object \n",
      " 2   Věk                 4700 non-null   int64  \n",
      " 3   Původní tým         4700 non-null   object \n",
      " 4   Původní liga        4700 non-null   object \n",
      " 5   Nový tým            4700 non-null   object \n",
      " 6   Nová  Liga          4700 non-null   object \n",
      " 7   Sezóna              4700 non-null   object \n",
      " 8   Odhadovaná hodnota  3440 non-null   float64\n",
      " 9   Přestupová částka   4700 non-null   int64  \n",
      "dtypes: float64(1), int64(2), object(7)\n",
      "memory usage: 367.3+ KB\n"
     ]
    }
   ],
   "source": [
    "df.info ()"
   ]
  },
  {
   "cell_type": "markdown",
   "id": "04585b2f",
   "metadata": {},
   "source": [
    "### Zobrazíme si náhodne vygenerované záznami v počte 10"
   ]
  },
  {
   "cell_type": "code",
   "execution_count": 51,
   "id": "660732ec",
   "metadata": {},
   "outputs": [
    {
     "data": {
      "text/html": [
       "<div>\n",
       "<style scoped>\n",
       "    .dataframe tbody tr th:only-of-type {\n",
       "        vertical-align: middle;\n",
       "    }\n",
       "\n",
       "    .dataframe tbody tr th {\n",
       "        vertical-align: top;\n",
       "    }\n",
       "\n",
       "    .dataframe thead th {\n",
       "        text-align: right;\n",
       "    }\n",
       "</style>\n",
       "<table border=\"1\" class=\"dataframe\">\n",
       "  <thead>\n",
       "    <tr style=\"text-align: right;\">\n",
       "      <th></th>\n",
       "      <th>Jméno</th>\n",
       "      <th>Pozice</th>\n",
       "      <th>Věk</th>\n",
       "      <th>Původní tým</th>\n",
       "      <th>Původní liga</th>\n",
       "      <th>Nový tým</th>\n",
       "      <th>Nová  Liga</th>\n",
       "      <th>Sezóna</th>\n",
       "      <th>Odhadovaná hodnota</th>\n",
       "      <th>Přestupová částka</th>\n",
       "    </tr>\n",
       "  </thead>\n",
       "  <tbody>\n",
       "    <tr>\n",
       "      <th>4239</th>\n",
       "      <td>Antonio Rüdiger</td>\n",
       "      <td>Centre-Back</td>\n",
       "      <td>24</td>\n",
       "      <td>AS Roma</td>\n",
       "      <td>Serie A</td>\n",
       "      <td>Chelsea</td>\n",
       "      <td>Premier League</td>\n",
       "      <td>2017-2018</td>\n",
       "      <td>25000000.0</td>\n",
       "      <td>35000000</td>\n",
       "    </tr>\n",
       "    <tr>\n",
       "      <th>4401</th>\n",
       "      <td>Jairo Riedewald</td>\n",
       "      <td>Centre-Back</td>\n",
       "      <td>20</td>\n",
       "      <td>AFC Ajax</td>\n",
       "      <td>Eredivisie</td>\n",
       "      <td>Crystal Palace</td>\n",
       "      <td>Premier League</td>\n",
       "      <td>2017-2018</td>\n",
       "      <td>5000000.0</td>\n",
       "      <td>9000000</td>\n",
       "    </tr>\n",
       "    <tr>\n",
       "      <th>4492</th>\n",
       "      <td>Lucas Digne</td>\n",
       "      <td>Left-Back</td>\n",
       "      <td>25</td>\n",
       "      <td>FC Barcelona</td>\n",
       "      <td>LaLiga</td>\n",
       "      <td>Everton</td>\n",
       "      <td>Premier League</td>\n",
       "      <td>2018-2019</td>\n",
       "      <td>15000000.0</td>\n",
       "      <td>20200000</td>\n",
       "    </tr>\n",
       "    <tr>\n",
       "      <th>4341</th>\n",
       "      <td>Yevhen Konoplyanka</td>\n",
       "      <td>Left Winger</td>\n",
       "      <td>27</td>\n",
       "      <td>Sevilla FC</td>\n",
       "      <td>LaLiga</td>\n",
       "      <td>FC Schalke 04</td>\n",
       "      <td>1.Bundesliga</td>\n",
       "      <td>2017-2018</td>\n",
       "      <td>10000000.0</td>\n",
       "      <td>12500000</td>\n",
       "    </tr>\n",
       "    <tr>\n",
       "      <th>3680</th>\n",
       "      <td>Nicolás Lodeiro</td>\n",
       "      <td>Attacking Midfield</td>\n",
       "      <td>25</td>\n",
       "      <td>Corinthians</td>\n",
       "      <td>Série A</td>\n",
       "      <td>Boca Juniors</td>\n",
       "      <td>Primera División</td>\n",
       "      <td>2014-2015</td>\n",
       "      <td>2000000.0</td>\n",
       "      <td>4920000</td>\n",
       "    </tr>\n",
       "    <tr>\n",
       "      <th>4100</th>\n",
       "      <td>Mingjian Zhao</td>\n",
       "      <td>Right-Back</td>\n",
       "      <td>29</td>\n",
       "      <td>SD Luneng</td>\n",
       "      <td>Super League</td>\n",
       "      <td>HB CFFC</td>\n",
       "      <td>Super League</td>\n",
       "      <td>2016-2017</td>\n",
       "      <td>450000.0</td>\n",
       "      <td>10950000</td>\n",
       "    </tr>\n",
       "    <tr>\n",
       "      <th>1328</th>\n",
       "      <td>Nathan Ellington</td>\n",
       "      <td>Centre-Forward</td>\n",
       "      <td>24</td>\n",
       "      <td>Wigan</td>\n",
       "      <td>Premier League</td>\n",
       "      <td>West Brom</td>\n",
       "      <td>Premier League</td>\n",
       "      <td>2005-2006</td>\n",
       "      <td>2250000.0</td>\n",
       "      <td>4500000</td>\n",
       "    </tr>\n",
       "    <tr>\n",
       "      <th>1583</th>\n",
       "      <td>Johan Elmander</td>\n",
       "      <td>Centre-Forward</td>\n",
       "      <td>25</td>\n",
       "      <td>Bröndby IF</td>\n",
       "      <td>Superligaen</td>\n",
       "      <td>Toulouse</td>\n",
       "      <td>Ligue 1</td>\n",
       "      <td>2006-2007</td>\n",
       "      <td>3500000.0</td>\n",
       "      <td>5000000</td>\n",
       "    </tr>\n",
       "    <tr>\n",
       "      <th>3177</th>\n",
       "      <td>Marcos Rojo</td>\n",
       "      <td>Centre-Back</td>\n",
       "      <td>22</td>\n",
       "      <td>Spartak Moscow</td>\n",
       "      <td>Premier Liga</td>\n",
       "      <td>Sporting CP</td>\n",
       "      <td>Liga NOS</td>\n",
       "      <td>2012-2013</td>\n",
       "      <td>2000000.0</td>\n",
       "      <td>4000000</td>\n",
       "    </tr>\n",
       "    <tr>\n",
       "      <th>2508</th>\n",
       "      <td>Raúl Meireles</td>\n",
       "      <td>Central Midfield</td>\n",
       "      <td>27</td>\n",
       "      <td>FC Porto</td>\n",
       "      <td>Liga NOS</td>\n",
       "      <td>Liverpool</td>\n",
       "      <td>Premier League</td>\n",
       "      <td>2010-2011</td>\n",
       "      <td>11000000.0</td>\n",
       "      <td>13000000</td>\n",
       "    </tr>\n",
       "  </tbody>\n",
       "</table>\n",
       "</div>"
      ],
      "text/plain": [
       "                   Jméno              Pozice  Věk     Původní tým  \\\n",
       "4239     Antonio Rüdiger         Centre-Back   24         AS Roma   \n",
       "4401     Jairo Riedewald         Centre-Back   20        AFC Ajax   \n",
       "4492         Lucas Digne           Left-Back   25    FC Barcelona   \n",
       "4341  Yevhen Konoplyanka         Left Winger   27      Sevilla FC   \n",
       "3680     Nicolás Lodeiro  Attacking Midfield   25     Corinthians   \n",
       "4100       Mingjian Zhao          Right-Back   29       SD Luneng   \n",
       "1328    Nathan Ellington      Centre-Forward   24           Wigan   \n",
       "1583      Johan Elmander      Centre-Forward   25      Bröndby IF   \n",
       "3177         Marcos Rojo         Centre-Back   22  Spartak Moscow   \n",
       "2508       Raúl Meireles    Central Midfield   27        FC Porto   \n",
       "\n",
       "        Původní liga        Nový tým        Nová  Liga     Sezóna  \\\n",
       "4239         Serie A         Chelsea    Premier League  2017-2018   \n",
       "4401      Eredivisie  Crystal Palace    Premier League  2017-2018   \n",
       "4492          LaLiga         Everton    Premier League  2018-2019   \n",
       "4341          LaLiga   FC Schalke 04      1.Bundesliga  2017-2018   \n",
       "3680         Série A    Boca Juniors  Primera División  2014-2015   \n",
       "4100    Super League         HB CFFC      Super League  2016-2017   \n",
       "1328  Premier League       West Brom    Premier League  2005-2006   \n",
       "1583     Superligaen        Toulouse           Ligue 1  2006-2007   \n",
       "3177    Premier Liga     Sporting CP          Liga NOS  2012-2013   \n",
       "2508        Liga NOS       Liverpool    Premier League  2010-2011   \n",
       "\n",
       "      Odhadovaná hodnota  Přestupová částka  \n",
       "4239          25000000.0           35000000  \n",
       "4401           5000000.0            9000000  \n",
       "4492          15000000.0           20200000  \n",
       "4341          10000000.0           12500000  \n",
       "3680           2000000.0            4920000  \n",
       "4100            450000.0           10950000  \n",
       "1328           2250000.0            4500000  \n",
       "1583           3500000.0            5000000  \n",
       "3177           2000000.0            4000000  \n",
       "2508          11000000.0           13000000  "
      ]
     },
     "execution_count": 51,
     "metadata": {},
     "output_type": "execute_result"
    }
   ],
   "source": [
    "df.sample (10)"
   ]
  },
  {
   "cell_type": "markdown",
   "id": "93192511",
   "metadata": {},
   "source": [
    "### "
   ]
  },
  {
   "cell_type": "markdown",
   "id": "2be7f1ca",
   "metadata": {},
   "source": [
    "### Zobrazenie konkrétneho stĺpca definovaného v zátvorkách"
   ]
  },
  {
   "cell_type": "code",
   "execution_count": 52,
   "id": "ce9c8c33",
   "metadata": {},
   "outputs": [
    {
     "name": "stdout",
     "output_type": "stream",
     "text": [
      "0               Luís Figo\n",
      "1           Hernán Crespo\n",
      "2           Marc Overmars\n",
      "3       Gabriel Batistuta\n",
      "4          Nicolas Anelka\n",
      "              ...        \n",
      "4695        Jasmin Kurtic\n",
      "4696            Tchê Tchê\n",
      "4697        Silvan Widmer\n",
      "4698           Yuya Osako\n",
      "4699         Kyle Bartley\n",
      "Name: Jméno, Length: 4700, dtype: object\n"
     ]
    }
   ],
   "source": [
    "print (df['Jméno']) "
   ]
  },
  {
   "cell_type": "markdown",
   "id": "dc3b5995",
   "metadata": {},
   "source": [
    "### Zobrazenie konkrétnych riadkov definovaných v indexe"
   ]
  },
  {
   "cell_type": "code",
   "execution_count": 54,
   "id": "e0ca5feb",
   "metadata": {},
   "outputs": [
    {
     "name": "stdout",
     "output_type": "stream",
     "text": [
      "           Jméno          Pozice  Věk   Původní tým    Původní liga  \\\n",
      "0      Luís Figo    Right Winger   27  FC Barcelona          LaLiga   \n",
      "1  Hernán Crespo  Centre-Forward   25         Parma         Serie A   \n",
      "2  Marc Overmars     Left Winger   27       Arsenal  Premier League   \n",
      "\n",
      "       Nový tým Nová  Liga     Sezóna  Odhadovaná hodnota  Přestupová částka  \n",
      "0   Real Madrid     LaLiga  2000-2001                 NaN           60000000  \n",
      "1         Lazio    Serie A  2000-2001                 NaN           56810000  \n",
      "2  FC Barcelona     LaLiga  2000-2001                 NaN           40000000  \n"
     ]
    }
   ],
   "source": [
    "print (df[0:3]) # Zobrazenie rozpetie definovaných riadkov 0,1,2"
   ]
  },
  {
   "cell_type": "markdown",
   "id": "9469dc4a",
   "metadata": {},
   "source": [
    "### Zobrazenie konkrétnych stĺpcov "
   ]
  },
  {
   "cell_type": "code",
   "execution_count": 66,
   "id": "a8f8fef4",
   "metadata": {},
   "outputs": [
    {
     "name": "stdout",
     "output_type": "stream",
     "text": [
      "         Původní tým       Nový tým\n",
      "0       FC Barcelona    Real Madrid\n",
      "1              Parma          Lazio\n",
      "2            Arsenal   FC Barcelona\n",
      "3         Fiorentina        AS Roma\n",
      "4        Real Madrid       Paris SG\n",
      "...              ...            ...\n",
      "4695        Atalanta           SPAL\n",
      "4696       Palmeiras    Dynamo Kyiv\n",
      "4697  Udinese Calcio       FC Basel\n",
      "4698      1. FC Köln  Werder Bremen\n",
      "4699         Swansea      West Brom\n",
      "\n",
      "[4700 rows x 2 columns]\n"
     ]
    }
   ],
   "source": [
    "print (df.loc[:,['Původní tým','Nový tým']]) # definované stĺpce"
   ]
  },
  {
   "cell_type": "markdown",
   "id": "4bc28a76",
   "metadata": {},
   "source": [
    "### Zobrazenie konkrétneho riadku v datasete podľa argumentu"
   ]
  },
  {
   "cell_type": "code",
   "execution_count": 73,
   "id": "21c534b5",
   "metadata": {},
   "outputs": [
    {
     "name": "stdout",
     "output_type": "stream",
     "text": [
      "               Jméno          Pozice  Věk Původní tým Původní liga  \\\n",
      "365  Agustín Delgado  Centre-Forward   27      Necaxa       Mexico   \n",
      "\n",
      "        Nový tým      Nová  Liga     Sezóna  Odhadovaná hodnota  \\\n",
      "365  Southampton  Premier League  2001-2002                 NaN   \n",
      "\n",
      "     Přestupová částka  \n",
      "365            5750000  \n"
     ]
    }
   ],
   "source": [
    "print (df.iloc[[365]]) # Definovaný riadok"
   ]
  }
 ],
 "metadata": {
  "kernelspec": {
   "display_name": "Python 3 (ipykernel)",
   "language": "python",
   "name": "python3"
  },
  "language_info": {
   "codemirror_mode": {
    "name": "ipython",
    "version": 3
   },
   "file_extension": ".py",
   "mimetype": "text/x-python",
   "name": "python",
   "nbconvert_exporter": "python",
   "pygments_lexer": "ipython3",
   "version": "3.10.6"
  }
 },
 "nbformat": 4,
 "nbformat_minor": 5
}
